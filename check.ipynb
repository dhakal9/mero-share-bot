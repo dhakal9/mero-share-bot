{
 "cells": [
  {
   "cell_type": "code",
   "execution_count": 11,
   "metadata": {},
   "outputs": [],
   "source": [
    "import pandas as pd\n",
    "from concurrent.futures import ThreadPoolExecutor\n",
    "from selenium import webdriver\n",
    "from selenium.webdriver.chrome.service import Service\n",
    "from webdriver_manager.chrome import ChromeDriverManager\n",
    "from selenium.webdriver.common.by import By\n",
    "from selenium.webdriver.support.ui import WebDriverWait\n",
    "import time\n",
    "from copy import deepcopy\n",
    "import re\n",
    "\n",
    "# from bs4 import BeautifulSoup\n",
    "# # import requests\n",
    "\n",
    "# Need these: shop_name,language,year,brand,modell,condition,category_shop,stock_status,stock_text,stock_sizes,url-detail,price,rrp\n",
    "def get_driver():\n",
    "    chromeOptions = webdriver.ChromeOptions()\n",
    "\n",
    "    # Headless is faster. If headless is False then it opens a browser and you can see action of web driver. You can try making it False\n",
    "    chromeOptions.add_argument(\"--log-level=3\")\n",
    "    #chromeOptions.add_argument(\"--headless\")\n",
    "    user_agent = 'Mozilla/5.0 (X11; Linux x86_64) AppleWebKit/537.36 (KHTML, like Gecko) Chrome/33.0.1750.517 Safari/537.36'\n",
    "    chromeOptions.add_argument('user-agent={0}'.format(user_agent))\n",
    "\n",
    "    # installs chrome driver automatically if not present\n",
    "    s = Service(ChromeDriverManager().install())\n",
    "    # chromeOptions.add_argument(\"user-data-dir=/home/bikash/.config/google-chrome/Profile 1\")\n",
    "\n",
    "    driver = webdriver.Chrome(\n",
    "        service=s, options=chromeOptions\n",
    "    )\n",
    "    return driver"
   ]
  },
  {
   "cell_type": "code",
   "execution_count": 12,
   "metadata": {},
   "outputs": [],
   "source": [
    "driver = get_driver()"
   ]
  },
  {
   "cell_type": "code",
   "execution_count": 13,
   "metadata": {},
   "outputs": [],
   "source": [
    "driver.get('https://meroshare.cdsc.com.np/#/login')\n",
    "time.sleep(4)"
   ]
  },
  {
   "cell_type": "code",
   "execution_count": 14,
   "metadata": {},
   "outputs": [],
   "source": [
    "driver.find_element(By.CLASS_NAME, \"select2-selection--single\").click()\n",
    "\n",
    "\n",
    "for element in driver.find_elements(By.CLASS_NAME, \"select2-results__option\"):\n",
    "    if element.text.startswith(\"first word of your bank name\"): # Depository Participants name\n",
    "        element.click()\n",
    "        break\n",
    "    "
   ]
  },
  {
   "cell_type": "code",
   "execution_count": 15,
   "metadata": {},
   "outputs": [],
   "source": [
    "user_name = driver.find_element(By.ID, \"username\")\n",
    "user_name.send_keys(\"123456\") #username"
   ]
  },
  {
   "cell_type": "code",
   "execution_count": 16,
   "metadata": {},
   "outputs": [],
   "source": [
    "password = driver.find_element(By.ID, \"password\")\n",
    "password.send_keys(\"********\") #password"
   ]
  },
  {
   "cell_type": "code",
   "execution_count": 17,
   "metadata": {},
   "outputs": [],
   "source": [
    "driver.find_element(By.CLASS_NAME, \"btn.sign-in\").click()\n",
    "time.sleep(5)"
   ]
  },
  {
   "cell_type": "code",
   "execution_count": 18,
   "metadata": {},
   "outputs": [],
   "source": [
    "driver.get(\"https://meroshare.cdsc.com.np/#/asba\")\n",
    "time.sleep(5)"
   ]
  },
  {
   "cell_type": "code",
   "execution_count": 19,
   "metadata": {},
   "outputs": [],
   "source": [
    "companies = driver.find_elements(By.CLASS_NAME, \"company-list\")"
   ]
  },
  {
   "cell_type": "code",
   "execution_count": 20,
   "metadata": {},
   "outputs": [],
   "source": [
    "check_for = 'General Public'\n",
    "for i in range(len(companies)):\n",
    "    company = companies[i]\n",
    "    share_type = company.text.split('\\n')[-2].lower()\n",
    "    if share_type.lower() == check_for.lower():\n",
    "        company.find_element(By.CLASS_NAME, \"btn-issue\").click()\n",
    "        time.sleep(3)\n",
    "        driver.find_element(By.ID, \"selectBank\").find_elements(By.TAG_NAME, \"option\")[1].click()\n",
    "        driver.find_element(By.ID, \"appliedKitta\").send_keys(\"10\")\n",
    "        driver.find_element(By.ID, \"crnNumber\").send_keys(\"********\") #CRN Number\n",
    "        driver.find_element(By.CLASS_NAME, \"disclaimer\").click()\n",
    "        driver.find_elements(By.CLASS_NAME, \"btn.btn-gap.btn-primary\")[1].click()\n",
    "        time.sleep(3)\n",
    "        driver.find_element(By.ID, \"transactionPIN\").send_keys(\"6122\")\n",
    "        driver.find_elements(By.CLASS_NAME, \"btn.btn-gap.btn-primary\")[2].click()\n",
    "        time.sleep(3)\n",
    "        driver.get(\"https://meroshare.cdsc.com.np/#/asba\")\n",
    "        time.sleep(3)\n",
    "        companies = driver.find_elements(By.CLASS_NAME, \"company-list\")\n",
    "        "
   ]
  },
  {
   "cell_type": "code",
   "execution_count": null,
   "metadata": {},
   "outputs": [],
   "source": []
  },
  {
   "cell_type": "code",
   "execution_count": null,
   "metadata": {},
   "outputs": [],
   "source": []
  },
  {
   "cell_type": "code",
   "execution_count": null,
   "metadata": {},
   "outputs": [],
   "source": []
  },
  {
   "cell_type": "code",
   "execution_count": null,
   "metadata": {},
   "outputs": [],
   "source": []
  },
  {
   "cell_type": "code",
   "execution_count": null,
   "metadata": {},
   "outputs": [],
   "source": []
  },
  {
   "cell_type": "code",
   "execution_count": null,
   "metadata": {},
   "outputs": [],
   "source": []
  },
  {
   "cell_type": "code",
   "execution_count": null,
   "metadata": {},
   "outputs": [],
   "source": []
  }
 ],
 "metadata": {
  "kernelspec": {
   "display_name": "Python 3",
   "language": "python",
   "name": "python3"
  },
  "language_info": {
   "codemirror_mode": {
    "name": "ipython",
    "version": 3
   },
   "file_extension": ".py",
   "mimetype": "text/x-python",
   "name": "python",
   "nbconvert_exporter": "python",
   "pygments_lexer": "ipython3",
   "version": "3.11.3"
  },
  "orig_nbformat": 4
 },
 "nbformat": 4,
 "nbformat_minor": 2
}
